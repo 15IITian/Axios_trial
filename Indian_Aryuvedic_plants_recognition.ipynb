{
  "nbformat": 4,
  "nbformat_minor": 0,
  "metadata": {
    "colab": {
      "provenance": [],
      "mount_file_id": "1Q9kg9Ni3wIt4vnWiUvqyNZDCPSxN7pMo",
      "authorship_tag": "ABX9TyNUwNi4IBf8pLEeNkCt64/8",
      "include_colab_link": true
    },
    "kernelspec": {
      "name": "python3",
      "display_name": "Python 3"
    },
    "language_info": {
      "name": "python"
    },
    "accelerator": "TPU"
  },
  "cells": [
    {
      "cell_type": "markdown",
      "metadata": {
        "id": "view-in-github",
        "colab_type": "text"
      },
      "source": [
        "<a href=\"https://colab.research.google.com/github/15IITian/Axios_trial/blob/main/Indian_Aryuvedic_plants_recognition.ipynb\" target=\"_parent\"><img src=\"https://colab.research.google.com/assets/colab-badge.svg\" alt=\"Open In Colab\"/></a>"
      ]
    },
    {
      "cell_type": "code",
      "source": [
        "# from google.colab import drive\n",
        "# drive.mount('/content/drive')\n",
        "\n"
      ],
      "metadata": {
        "id": "Jb54s94Iqgc5"
      },
      "execution_count": null,
      "outputs": []
    },
    {
      "cell_type": "code",
      "source": [
        "# import os\n",
        "# os.chdir('/content/drive/MyDrive/Indian_Medicinal_ Images.zip')"
      ],
      "metadata": {
        "id": "pkZdWx4NG1k_"
      },
      "execution_count": null,
      "outputs": []
    },
    {
      "cell_type": "code",
      "source": [
        "# labels=['Betel',\n",
        "#  'Curry',\n",
        "#  'Dantu',\n",
        "#  'Fenugreek',\n",
        "#  'Indian Beech',\n",
        "#  'Indian Mustard',\n",
        "#  'Neem',\n",
        "#  'Peepal',\n",
        "#  'Sandalwood',\n",
        "#  'Tulsi']"
      ],
      "metadata": {
        "id": "3oyWRqE0gkzJ"
      },
      "execution_count": null,
      "outputs": []
    },
    {
      "cell_type": "code",
      "source": [
        "import zipfile\n",
        "zip_ref = zipfile.ZipFile('/content/drive/MyDrive/Indian_Medicinal_ Images.zip', 'r')\n",
        "zip_ref.extractall('/content')\n",
        "zip_ref.close()\n"
      ],
      "metadata": {
        "id": "LBG8JKLUSsrL"
      },
      "execution_count": 1,
      "outputs": []
    },
    {
      "cell_type": "code",
      "execution_count": 2,
      "metadata": {
        "id": "Ztr588Xf30-V"
      },
      "outputs": [],
      "source": [
        "import numpy as np\n",
        "import tensorflow as tf\n",
        "from tensorflow import keras\n",
        "from keras import Sequential, layers\n",
        "from keras.layers import Dense,Conv2D,MaxPooling2D,Flatten,BatchNormalization,Dropout"
      ]
    },
    {
      "cell_type": "markdown",
      "source": [
        "IMAGE -> Width * Height"
      ],
      "metadata": {
        "id": "Sic6J5Op_D_5"
      }
    },
    {
      "cell_type": "code",
      "source": [
        "# from keras.preprocessing.image import ImageDataGenerator, array_to_img, img_to_array, load_img"
      ],
      "metadata": {
        "id": "XJ50JTKBfzba"
      },
      "execution_count": 3,
      "outputs": []
    },
    {
      "cell_type": "code",
      "source": [
        "\n",
        "# generators\n",
        "train_ds = keras.utils.image_dataset_from_directory(\n",
        "    directory = '/content/Indian_Medicinal_ Images/train',\n",
        "    seed=100,\n",
        "    shuffle=True,\n",
        "    labels='inferred',\n",
        "    label_mode = 'int',\n",
        "    # labels = np.squeeze(np.array(labels), axis=1),\n",
        "    batch_size=32,\n",
        "    image_size=(256,256)\n",
        ")\n",
        "\n",
        "validation_ds = keras.utils.image_dataset_from_directory(\n",
        "    directory = '/content/Indian_Medicinal_ Images/Test',\n",
        "    seed=100,\n",
        "    shuffle=True,\n",
        "    labels='inferred',\n",
        "    label_mode = 'int',\n",
        "    # labels = np.squeeze(labels, axis=1),\n",
        "    batch_size=32,\n",
        "    image_size=(256,256)\n",
        ")"
      ],
      "metadata": {
        "colab": {
          "base_uri": "https://localhost:8080/"
        },
        "id": "QY35574cROy9",
        "outputId": "368d48e0-89f8-45c3-db41-b8d3b4414ecd"
      },
      "execution_count": 4,
      "outputs": [
        {
          "output_type": "stream",
          "name": "stdout",
          "text": [
            "Found 533 files belonging to 10 classes.\n",
            "Found 61 files belonging to 10 classes.\n"
          ]
        }
      ]
    },
    {
      "cell_type": "code",
      "source": [
        "class_names = train_ds.class_names\n",
        "class_names"
      ],
      "metadata": {
        "colab": {
          "base_uri": "https://localhost:8080/"
        },
        "id": "CplAhHwZgar4",
        "outputId": "92433dce-02d0-438f-dca4-c2757eb93914"
      },
      "execution_count": 5,
      "outputs": [
        {
          "output_type": "execute_result",
          "data": {
            "text/plain": [
              "['Betel',\n",
              " 'Curry',\n",
              " 'Dantu',\n",
              " 'Fenugreek',\n",
              " 'Indian Beech',\n",
              " 'Indian Mustard',\n",
              " 'Neem',\n",
              " 'Peepal',\n",
              " 'Sandalwood',\n",
              " 'Tulsi']"
            ]
          },
          "metadata": {},
          "execution_count": 5
        }
      ]
    },
    {
      "cell_type": "code",
      "source": [
        "train_ds"
      ],
      "metadata": {
        "colab": {
          "base_uri": "https://localhost:8080/"
        },
        "id": "-aH9P8IDUyRw",
        "outputId": "a1cc30f2-66e5-4ba5-a132-ea340cbc55d1"
      },
      "execution_count": 6,
      "outputs": [
        {
          "output_type": "execute_result",
          "data": {
            "text/plain": [
              "<_BatchDataset element_spec=(TensorSpec(shape=(None, 256, 256, 3), dtype=tf.float32, name=None), TensorSpec(shape=(None,), dtype=tf.int32, name=None))>"
            ]
          },
          "metadata": {},
          "execution_count": 6
        }
      ]
    },
    {
      "cell_type": "code",
      "source": [
        "\n",
        "# Normalize\n",
        "def process(image,label):\n",
        "    image = tf.cast(image/255. ,tf.float32)\n",
        "    return image,label\n",
        "\n",
        "train_ds = train_ds.map(process)\n",
        "validation_ds = validation_ds.map(process)"
      ],
      "metadata": {
        "id": "sHZ_95w7Qlzb"
      },
      "execution_count": 7,
      "outputs": []
    },
    {
      "cell_type": "code",
      "source": [
        "# create CNN model\n",
        "\n",
        "model = Sequential()\n",
        "\n",
        "\n",
        "model.add(Conv2D(32,kernel_size=(3,3),padding='valid',activation='relu',input_shape=(256,256,3)))\n",
        "model.add(BatchNormalization())\n",
        "model.add(MaxPooling2D(pool_size=(2,2),strides=2,padding='valid'))\n",
        "\n",
        "model.add(Conv2D(64,kernel_size=(3,3),padding='valid',activation='relu'))\n",
        "model.add(BatchNormalization())\n",
        "model.add(MaxPooling2D(pool_size=(2,2),strides=2,padding='valid'))\n",
        "\n",
        "model.add(Conv2D(128,kernel_size=(3,3),padding='valid',activation='relu'))\n",
        "model.add(BatchNormalization())\n",
        "model.add(MaxPooling2D(pool_size=(2,2),strides=2,padding='valid'))\n",
        "\n",
        "model.add(Flatten())\n",
        "\n",
        "model.add(Dense(128,activation='relu'))\n",
        "model.add(Dropout(0.5))\n",
        "model.add(Dense(64,activation='relu'))\n",
        "model.add(Dropout(0.5))\n",
        "model.add(Dense(10,activation='softmax'))\n",
        "\n",
        "model.build(input_shape=(256,256,3))"
      ],
      "metadata": {
        "id": "8Jg7jVDps8PF"
      },
      "execution_count": 8,
      "outputs": []
    },
    {
      "cell_type": "code",
      "source": [
        "\n",
        "\n",
        "model.summary()"
      ],
      "metadata": {
        "id": "hZEqOyrztZuH",
        "colab": {
          "base_uri": "https://localhost:8080/"
        },
        "outputId": "7f28c2f2-026a-4b0d-8045-258437d09514"
      },
      "execution_count": 9,
      "outputs": [
        {
          "output_type": "stream",
          "name": "stdout",
          "text": [
            "Model: \"sequential\"\n",
            "_________________________________________________________________\n",
            " Layer (type)                Output Shape              Param #   \n",
            "=================================================================\n",
            " conv2d (Conv2D)             (None, 254, 254, 32)      896       \n",
            "                                                                 \n",
            " batch_normalization (BatchN  (None, 254, 254, 32)     128       \n",
            " ormalization)                                                   \n",
            "                                                                 \n",
            " max_pooling2d (MaxPooling2D  (None, 127, 127, 32)     0         \n",
            " )                                                               \n",
            "                                                                 \n",
            " conv2d_1 (Conv2D)           (None, 125, 125, 64)      18496     \n",
            "                                                                 \n",
            " batch_normalization_1 (Batc  (None, 125, 125, 64)     256       \n",
            " hNormalization)                                                 \n",
            "                                                                 \n",
            " max_pooling2d_1 (MaxPooling  (None, 62, 62, 64)       0         \n",
            " 2D)                                                             \n",
            "                                                                 \n",
            " conv2d_2 (Conv2D)           (None, 60, 60, 128)       73856     \n",
            "                                                                 \n",
            " batch_normalization_2 (Batc  (None, 60, 60, 128)      512       \n",
            " hNormalization)                                                 \n",
            "                                                                 \n",
            " max_pooling2d_2 (MaxPooling  (None, 30, 30, 128)      0         \n",
            " 2D)                                                             \n",
            "                                                                 \n",
            " flatten (Flatten)           (None, 115200)            0         \n",
            "                                                                 \n",
            " dense (Dense)               (None, 128)               14745728  \n",
            "                                                                 \n",
            " dropout (Dropout)           (None, 128)               0         \n",
            "                                                                 \n",
            " dense_1 (Dense)             (None, 64)                8256      \n",
            "                                                                 \n",
            " dropout_1 (Dropout)         (None, 64)                0         \n",
            "                                                                 \n",
            " dense_2 (Dense)             (None, 10)                650       \n",
            "                                                                 \n",
            "=================================================================\n",
            "Total params: 14,848,778\n",
            "Trainable params: 14,848,330\n",
            "Non-trainable params: 448\n",
            "_________________________________________________________________\n"
          ]
        }
      ]
    },
    {
      "cell_type": "code",
      "source": [
        "\n",
        "# plt.figure(figsize=(10,10))\n",
        "# for image_batch, labels_batch in df.take(1):\n",
        "#   for i in range(4):\n",
        "#     ax= plt.subplot(3,5,i+1)\n",
        "#     plt.title(class_names[labels_batch[i]])\n",
        "#     plt.imshow(image_batch[i].numpy().astype('uint8'))\n",
        "#     plt.axis('off')\n"
      ],
      "metadata": {
        "id": "liaUvTmBvIjT"
      },
      "execution_count": 10,
      "outputs": []
    },
    {
      "cell_type": "code",
      "source": [
        "\n",
        "loss = tf.keras.losses.sparse_categorical_crossentropy\n",
        "\n",
        "model.compile(optimizer='adam',loss=loss,metrics=['accuracy'])"
      ],
      "metadata": {
        "id": "wvZmiKJOzzyc"
      },
      "execution_count": 11,
      "outputs": []
    },
    {
      "cell_type": "code",
      "source": [
        "len(train_ds)"
      ],
      "metadata": {
        "colab": {
          "base_uri": "https://localhost:8080/"
        },
        "id": "NiUuvBmtZFn8",
        "outputId": "45f91dc3-0e87-463c-c542-e735afb950fb"
      },
      "execution_count": 12,
      "outputs": [
        {
          "output_type": "execute_result",
          "data": {
            "text/plain": [
              "17"
            ]
          },
          "metadata": {},
          "execution_count": 12
        }
      ]
    },
    {
      "cell_type": "code",
      "source": [
        "\n",
        "history = model.fit(train_ds,epochs=40,validation_data=validation_ds)"
      ],
      "metadata": {
        "colab": {
          "base_uri": "https://localhost:8080/"
        },
        "id": "cCkCfbTq3Kk4",
        "outputId": "fea4b4b1-6186-406a-bcea-64da22c79389"
      },
      "execution_count": null,
      "outputs": [
        {
          "output_type": "stream",
          "name": "stdout",
          "text": [
            "Epoch 1/40\n",
            "17/17 [==============================] - 153s 8s/step - loss: 17.9241 - accuracy: 0.1801 - val_loss: 4.1186 - val_accuracy: 0.0984\n",
            "Epoch 2/40\n",
            "17/17 [==============================] - 136s 8s/step - loss: 2.8173 - accuracy: 0.2664 - val_loss: 7.3823 - val_accuracy: 0.0984\n",
            "Epoch 3/40\n",
            "17/17 [==============================] - 138s 8s/step - loss: 2.3797 - accuracy: 0.2195 - val_loss: 8.8309 - val_accuracy: 0.0984\n",
            "Epoch 4/40\n",
            "17/17 [==============================] - 130s 7s/step - loss: 2.3470 - accuracy: 0.2139 - val_loss: 10.4513 - val_accuracy: 0.0984\n",
            "Epoch 5/40\n",
            "17/17 [==============================] - 126s 7s/step - loss: 2.2914 - accuracy: 0.2083 - val_loss: 11.7504 - val_accuracy: 0.0984\n",
            "Epoch 6/40\n",
            "17/17 [==============================] - 127s 7s/step - loss: 2.2869 - accuracy: 0.2083 - val_loss: 13.2355 - val_accuracy: 0.0984\n",
            "Epoch 7/40\n",
            "17/17 [==============================] - 128s 7s/step - loss: 2.3285 - accuracy: 0.2083 - val_loss: 13.9639 - val_accuracy: 0.0984\n",
            "Epoch 8/40\n",
            "17/17 [==============================] - 134s 8s/step - loss: 2.2812 - accuracy: 0.2083 - val_loss: 14.2740 - val_accuracy: 0.0984\n",
            "Epoch 9/40\n",
            "17/17 [==============================] - 125s 7s/step - loss: 2.2798 - accuracy: 0.2101 - val_loss: 15.0616 - val_accuracy: 0.0984\n",
            "Epoch 10/40\n",
            "17/17 [==============================] - 131s 8s/step - loss: 2.4113 - accuracy: 0.2120 - val_loss: 14.1757 - val_accuracy: 0.0984\n",
            "Epoch 11/40\n",
            "17/17 [==============================] - 125s 7s/step - loss: 2.2858 - accuracy: 0.2083 - val_loss: 13.4035 - val_accuracy: 0.0984\n",
            "Epoch 12/40\n",
            "17/17 [==============================] - 124s 7s/step - loss: 2.2925 - accuracy: 0.2083 - val_loss: 8.6300 - val_accuracy: 0.0984\n",
            "Epoch 13/40\n",
            "17/17 [==============================] - 133s 8s/step - loss: 2.2705 - accuracy: 0.2083 - val_loss: 6.6128 - val_accuracy: 0.0984\n",
            "Epoch 14/40\n",
            "17/17 [==============================] - 123s 7s/step - loss: 2.2681 - accuracy: 0.2083 - val_loss: 5.2786 - val_accuracy: 0.0984\n",
            "Epoch 15/40\n",
            "17/17 [==============================] - 124s 7s/step - loss: 2.2674 - accuracy: 0.2083 - val_loss: 4.5155 - val_accuracy: 0.0984\n",
            "Epoch 16/40\n",
            "17/17 [==============================] - 128s 7s/step - loss: 2.2619 - accuracy: 0.2083 - val_loss: 3.9098 - val_accuracy: 0.0984\n",
            "Epoch 17/40\n",
            "17/17 [==============================] - 131s 7s/step - loss: 2.2638 - accuracy: 0.2083 - val_loss: 3.3325 - val_accuracy: 0.0984\n",
            "Epoch 18/40\n",
            "17/17 [==============================] - 127s 7s/step - loss: 2.2604 - accuracy: 0.2083 - val_loss: 2.7867 - val_accuracy: 0.0984\n",
            "Epoch 19/40\n",
            "17/17 [==============================] - 126s 7s/step - loss: 2.2591 - accuracy: 0.2083 - val_loss: 2.4347 - val_accuracy: 0.1639\n",
            "Epoch 20/40\n",
            "17/17 [==============================] - 125s 7s/step - loss: 2.2590 - accuracy: 0.2083 - val_loss: 2.2946 - val_accuracy: 0.2623\n",
            "Epoch 21/40\n",
            "17/17 [==============================] - 126s 7s/step - loss: 2.2551 - accuracy: 0.2083 - val_loss: 2.2802 - val_accuracy: 0.2459\n",
            "Epoch 22/40\n",
            "17/17 [==============================] - 123s 7s/step - loss: 2.2555 - accuracy: 0.2083 - val_loss: 2.2811 - val_accuracy: 0.1967\n",
            "Epoch 23/40\n",
            "17/17 [==============================] - 127s 7s/step - loss: 2.2547 - accuracy: 0.2083 - val_loss: 2.2642 - val_accuracy: 0.1967\n",
            "Epoch 24/40\n",
            "17/17 [==============================] - 124s 7s/step - loss: 2.2517 - accuracy: 0.2083 - val_loss: 2.2654 - val_accuracy: 0.1803\n",
            "Epoch 25/40\n",
            "17/17 [==============================] - 132s 8s/step - loss: 2.2503 - accuracy: 0.2083 - val_loss: 2.2640 - val_accuracy: 0.1803\n",
            "Epoch 26/40\n",
            "17/17 [==============================] - 131s 8s/step - loss: 2.2480 - accuracy: 0.2083 - val_loss: 2.2664 - val_accuracy: 0.1803\n",
            "Epoch 27/40\n",
            "17/17 [==============================] - 126s 7s/step - loss: 2.2514 - accuracy: 0.2083 - val_loss: 2.2677 - val_accuracy: 0.1803\n",
            "Epoch 28/40\n",
            "17/17 [==============================] - 126s 7s/step - loss: 2.2461 - accuracy: 0.2083 - val_loss: 2.2672 - val_accuracy: 0.1803\n",
            "Epoch 29/40\n",
            " 9/17 [==============>...............] - ETA: 56s - loss: 2.2407 - accuracy: 0.2257 "
          ]
        }
      ]
    },
    {
      "cell_type": "code",
      "source": [
        "import matplotlib.pyplot as plt\n",
        "\n",
        "plt.plot(history.history['accuracy'],color='red',label='train')\n",
        "plt.plot(history.history['val_accuracy'],color='blue',label='validation')\n",
        "plt.legend()\n",
        "plt.show()"
      ],
      "metadata": {
        "id": "A-ZtQueNj19q"
      },
      "execution_count": null,
      "outputs": []
    },
    {
      "cell_type": "markdown",
      "source": [
        "## ANN->\n",
        "### Can not handle due to many neurons involved"
      ],
      "metadata": {
        "id": "Fha8ZBql5Kks"
      }
    },
    {
      "cell_type": "markdown",
      "source": [
        "Using Pre-trained model ->"
      ],
      "metadata": {
        "id": "j3nQdPobgrK9"
      }
    },
    {
      "cell_type": "code",
      "source": [
        "from  keras.applications.vgg16 import VGG16"
      ],
      "metadata": {
        "id": "qQWzKmg4_FFr"
      },
      "execution_count": null,
      "outputs": []
    },
    {
      "cell_type": "code",
      "source": [
        "con_base= VGG16(\n",
        "    include_top=False,\n",
        "    weights= 'imagenet',\n",
        "    input_shape= (256, 256, 3)\n",
        ")\n",
        "con_base.trainable= False\n",
        "\n"
      ],
      "metadata": {
        "id": "klwiyOL03NBD",
        "colab": {
          "base_uri": "https://localhost:8080/"
        },
        "outputId": "7d85c7c6-c887-4673-a7c9-f6b3d941711a"
      },
      "execution_count": null,
      "outputs": [
        {
          "output_type": "stream",
          "name": "stdout",
          "text": [
            "Downloading data from https://storage.googleapis.com/tensorflow/keras-applications/vgg16/vgg16_weights_tf_dim_ordering_tf_kernels_notop.h5\n",
            "58889256/58889256 [==============================] - 4s 0us/step\n"
          ]
        }
      ]
    },
    {
      "cell_type": "code",
      "source": [
        "con_base.summary()"
      ],
      "metadata": {
        "colab": {
          "base_uri": "https://localhost:8080/"
        },
        "id": "t7TjHNN1jvLn",
        "outputId": "4cc593d7-4e8f-407f-ae11-482c309681ae"
      },
      "execution_count": null,
      "outputs": [
        {
          "output_type": "stream",
          "name": "stdout",
          "text": [
            "Model: \"vgg16\"\n",
            "_________________________________________________________________\n",
            " Layer (type)                Output Shape              Param #   \n",
            "=================================================================\n",
            " input_1 (InputLayer)        [(None, 256, 256, 3)]     0         \n",
            "                                                                 \n",
            " block1_conv1 (Conv2D)       (None, 256, 256, 64)      1792      \n",
            "                                                                 \n",
            " block1_conv2 (Conv2D)       (None, 256, 256, 64)      36928     \n",
            "                                                                 \n",
            " block1_pool (MaxPooling2D)  (None, 128, 128, 64)      0         \n",
            "                                                                 \n",
            " block2_conv1 (Conv2D)       (None, 128, 128, 128)     73856     \n",
            "                                                                 \n",
            " block2_conv2 (Conv2D)       (None, 128, 128, 128)     147584    \n",
            "                                                                 \n",
            " block2_pool (MaxPooling2D)  (None, 64, 64, 128)       0         \n",
            "                                                                 \n",
            " block3_conv1 (Conv2D)       (None, 64, 64, 256)       295168    \n",
            "                                                                 \n",
            " block3_conv2 (Conv2D)       (None, 64, 64, 256)       590080    \n",
            "                                                                 \n",
            " block3_conv3 (Conv2D)       (None, 64, 64, 256)       590080    \n",
            "                                                                 \n",
            " block3_pool (MaxPooling2D)  (None, 32, 32, 256)       0         \n",
            "                                                                 \n",
            " block4_conv1 (Conv2D)       (None, 32, 32, 512)       1180160   \n",
            "                                                                 \n",
            " block4_conv2 (Conv2D)       (None, 32, 32, 512)       2359808   \n",
            "                                                                 \n",
            " block4_conv3 (Conv2D)       (None, 32, 32, 512)       2359808   \n",
            "                                                                 \n",
            " block4_pool (MaxPooling2D)  (None, 16, 16, 512)       0         \n",
            "                                                                 \n",
            " block5_conv1 (Conv2D)       (None, 16, 16, 512)       2359808   \n",
            "                                                                 \n",
            " block5_conv2 (Conv2D)       (None, 16, 16, 512)       2359808   \n",
            "                                                                 \n",
            " block5_conv3 (Conv2D)       (None, 16, 16, 512)       2359808   \n",
            "                                                                 \n",
            " block5_pool (MaxPooling2D)  (None, 8, 8, 512)         0         \n",
            "                                                                 \n",
            "=================================================================\n",
            "Total params: 14,714,688\n",
            "Trainable params: 0\n",
            "Non-trainable params: 14,714,688\n",
            "_________________________________________________________________\n"
          ]
        }
      ]
    },
    {
      "cell_type": "code",
      "source": [],
      "metadata": {
        "id": "yuMauR3lh4Ew"
      },
      "execution_count": null,
      "outputs": []
    },
    {
      "cell_type": "code",
      "source": [
        "model = tf.keras.Sequential()\n",
        "\n",
        "model.add(con_base)\n",
        "model.add(Flatten())\n",
        "model.add(Dense(256, activation='relu'))\n",
        "\n",
        "model.add(Dense(1, activation='softmax'))\n",
        "\n",
        "model.build(input_shape= (256,256,3))"
      ],
      "metadata": {
        "id": "QfEtRYDikKR-"
      },
      "execution_count": null,
      "outputs": []
    },
    {
      "cell_type": "code",
      "source": [
        "\n",
        "model.summary()"
      ],
      "metadata": {
        "colab": {
          "base_uri": "https://localhost:8080/"
        },
        "id": "fq_wQeUbkqnN",
        "outputId": "3a6bf1d8-428b-49d5-f433-e8c59eb3d13d"
      },
      "execution_count": null,
      "outputs": [
        {
          "output_type": "stream",
          "name": "stdout",
          "text": [
            "Model: \"sequential_2\"\n",
            "_________________________________________________________________\n",
            " Layer (type)                Output Shape              Param #   \n",
            "=================================================================\n",
            " vgg16 (Functional)          (None, 8, 8, 512)         14714688  \n",
            "                                                                 \n",
            " flatten_2 (Flatten)         (None, 32768)             0         \n",
            "                                                                 \n",
            " dense_5 (Dense)             (None, 256)               8388864   \n",
            "                                                                 \n",
            " dense_6 (Dense)             (None, 1)                 257       \n",
            "                                                                 \n",
            "=================================================================\n",
            "Total params: 23,103,809\n",
            "Trainable params: 8,389,121\n",
            "Non-trainable params: 14,714,688\n",
            "_________________________________________________________________\n"
          ]
        }
      ]
    },
    {
      "cell_type": "code",
      "source": [
        "model.compile(optimizer='adam', loss=loss,metrics=['accuracy'])"
      ],
      "metadata": {
        "id": "pZLfzVPol6cb"
      },
      "execution_count": null,
      "outputs": []
    },
    {
      "cell_type": "code",
      "source": [
        "history= model.fit(train_ds,epochs=10,validation_data=validation_ds)\n"
      ],
      "metadata": {
        "id": "MqM7UmEAlvIf"
      },
      "execution_count": null,
      "outputs": []
    },
    {
      "cell_type": "code",
      "source": [
        "plt.plot(history.history['loss'],color='red',label='test')\n",
        "plt.plot(history.history['val_loss'],color='blue',label='validation')\n",
        "plt.legend()\n",
        "plt.show()"
      ],
      "metadata": {
        "id": "o92cK5pIC0A_"
      },
      "execution_count": null,
      "outputs": []
    }
  ]
}